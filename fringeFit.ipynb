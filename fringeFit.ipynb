{
 "cells": [
  {
   "cell_type": "code",
   "execution_count": 1,
   "metadata": {
    "pycharm": {
     "is_executing": false
    }
   },
   "outputs": [],
   "source": [
    "import numpy as np\n",
    "import matplotlib.pyplot as plt\n",
    "import scipy.optimize as opt\n",
    "import imageio"
   ]
  },
  {
   "cell_type": "code",
   "execution_count": 2,
   "metadata": {
    "pycharm": {
     "is_executing": false
    }
   },
   "outputs": [],
   "source": [
    "# generates test data\n",
    "def noisy_fringes(x_y_tuple,\n",
    "                 amplitude=0.5,\n",
    "                 offset=0.5,\n",
    "                 spatial_frequency=5,\n",
    "                 rotation=0,\n",
    "                 phase=0,\n",
    "                 loc=0,\n",
    "                 scale=0.3\n",
    "                 ):\n",
    "    image = fringes(x_y_tuple,\n",
    "                    amplitude=amplitude,\n",
    "                    offset=offset,\n",
    "                    spatial_frequency=spatial_frequency,\n",
    "                    rotation=rotation,\n",
    "                    phase=phase)\n",
    "    noisy_image = image + np.random.normal(size=image.shape,\n",
    "                                           loc=loc,\n",
    "                                           scale=scale)\n",
    "    return noisy_image\n"
   ]
  },
  {
   "cell_type": "code",
   "execution_count": 3,
   "metadata": {
    "pycharm": {
     "is_executing": false
    }
   },
   "outputs": [],
   "source": [
    "# naive guess at function to fit fringes\n",
    "# spatial frequency is in normalised units\n",
    "# rotation is counterclockwise in radians with respect to the x axis\n",
    "def fringes(x_y_tuple,\n",
    "            amplitude=0.5,\n",
    "            offset=0.5,\n",
    "            spatial_frequency=5,\n",
    "            rotation=0,\n",
    "            phase=0):\n",
    "    x, y = x_y_tuple  # unpacking independent variables\n",
    "    rotation+=np.pi/2\n",
    "    # using euclidean rotation matrix to calculate rotated coordinate system\n",
    "    x_rotated =  x*np.cos(rotation)+y*np.sin(rotation)\n",
    "    y_rotated = -x*np.sin(rotation)+y*np.cos(rotation)\n",
    "\n",
    "    period = 1/(spatial_frequency*2*np.pi)\n",
    "    frequency = 1/period\n",
    "    z = amplitude*np.sin(frequency*x_rotated + phase)+offset\n",
    "    return np.ravel(z)"
   ]
  },
  {
   "cell_type": "code",
   "execution_count": 4,
   "metadata": {
    "pycharm": {
     "is_executing": false
    }
   },
   "outputs": [],
   "source": [
    "# Define bounds for fitting\n",
    "bounds = [(0.1, -1, 2,  0,       0),\n",
    "          (2,    1, 20, np.pi,   2*np.pi)]\n",
    "\n",
    "# Switch between using image and generating noisy image\n",
    "read_png = True\n",
    "filename = \"example.png\"\n",
    "\n",
    "# Test using actual image\n",
    "if read_png:\n",
    "    noisy_image = imageio.imread(filename)\n",
    "    # Only using green channel, should do something better than this\n",
    "    # but this works just for an example\n",
    "    # Note: reversing order of y since image coordinate system has\n",
    "    # origin in upper left instead of lower left\n",
    "    noisy_image = np.asarray(noisy_image[:, ::-1, 1], dtype=float)\n",
    "    # Transpose to stay consistent with matrix representation \n",
    "    noisy_image = noisy_image.T\n",
    "    shape = noisy_image.shape\n",
    "    len_x, len_y = noisy_image.shape \n",
    "    x, y = np.meshgrid(np.linspace(0, 1, len_x),\n",
    "                       np.linspace(0, len_y/len_x, len_y), indexing=\"ij\")\n",
    "    noisy_image -= noisy_image.min()\n",
    "    noisy_image /= noisy_image.max()\n",
    "    noisy_image = noisy_image.ravel()\n",
    "\n",
    "# Test with noisy data\n",
    "else:\n",
    "    len_x, len_y = (100, 200)\n",
    "    shape = (len_x, len_y)\n",
    "    x, y = np.meshgrid(np.linspace(0, 1, len_x),\n",
    "                       np.linspace(0, len_y/len_x, len_y),\n",
    "                       indexing=\"ij\")\n",
    "\n",
    "    noisy_image = noisy_fringes((x, y),\n",
    "                               spatial_frequency=5,\n",
    "                               rotation=np.pi/4)"
   ]
  },
  {
   "cell_type": "code",
   "execution_count": 5,
   "metadata": {
    "pycharm": {
     "is_executing": false
    }
   },
   "outputs": [],
   "source": [
    "# Wrap the fringe function to use scipy's differential\n",
    "# evolution function\n",
    "def wrapped_fringes(params): return np.sum(\n",
    "    (noisy_image - fringes((x, y), *params))**2)"
   ]
  },
  {
   "cell_type": "code",
   "execution_count": 6,
   "metadata": {
    "pycharm": {
     "is_executing": false
    }
   },
   "outputs": [
    {
     "name": "stdout",
     "output_type": "stream",
     "text": [
      "[0.24868432 0.58569211 3.61080277 2.0257039  3.37801287]\n"
     ]
    }
   ],
   "source": [
    "# We're using scipy's differential evolution function to find a good guess\n",
    "# of appropriate parameters, curve fit by itself typically gets stuck in\n",
    "# local minima otherwise\n",
    "res = opt.differential_evolution(wrapped_fringes,\n",
    "                                 bounds=((0.1, 2),       # Amplitude\n",
    "                                         (-1, 1),        # Offset\n",
    "                                         (2, 20),        # Spatial frequency\n",
    "                                         (0, np.pi),     # Rotation\n",
    "                                         (0, 2*np.pi)))  # Phase\n",
    "\n",
    "guess = res.x\n",
    "print(guess)"
   ]
  },
  {
   "cell_type": "code",
   "execution_count": 7,
   "metadata": {
    "pycharm": {
     "is_executing": false
    }
   },
   "outputs": [
    {
     "name": "stdout",
     "output_type": "stream",
     "text": [
      "Fitted parameters\n",
      "----------------------------------------\n",
      "Amplitude            = 0.249 +- 0.001\n",
      "Offset               = 0.586 +- 0.000\n",
      "Spatial frequency    = 3.611 +- 0.001\n",
      "Rotation             = 2.026 +- 0.000\n",
      "Phase                = 3.378 +- 0.007\n",
      "----------------------------------------\n"
     ]
    },
    {
     "data": {
      "image/png": "[encoded data removed]",
      "text/plain": [
       "<Figure size 432x288 with 3 Axes>"
      ]
     },
     "metadata": {
      "needs_background": "light"
     },
     "output_type": "display_data"
    }
   ],
   "source": [
    "# Finally fit the fringes\n",
    "popt, pcov = opt.curve_fit(fringes,\n",
    "                           (x, y),\n",
    "                           noisy_image,\n",
    "                           p0=guess,\n",
    "                           bounds=bounds\n",
    "                           )\n",
    "# Print the parameters\n",
    "parameters = (\"Amplitude\", \"Offset\", \"Spatial frequency\", \"Rotation\", \"Phase\")\n",
    "print(\"Fitted parameters\")\n",
    "print(40*\"-\")\n",
    "for i, param in enumerate(parameters):\n",
    "    print(\"{:<20} = {:.3f} +- {:.3f}\".format(param, popt[i], pcov[i, i]**0.5))\n",
    "print(40*\"-\")\n",
    "\n",
    "# Reshape and plot the ravelled images\n",
    "fitted_image = fringes((x, y), *popt)\n",
    "fitted_image = fitted_image.reshape(shape)\n",
    "noisy_image = noisy_image.reshape(shape)\n",
    "residual = noisy_image - fitted_image\n",
    "\n",
    "# Same vmin and vmax for all images\n",
    "vmax = max(noisy_image.max(), fitted_image.max(), residual.max())\n",
    "vmin = min(noisy_image.min(), fitted_image.min(), residual.min())\n",
    "fig, axes = plt.subplots(nrows=1, ncols=3, sharey=True)\n",
    "for title, data, ax in zip((\"Raw\", \"Fit\", \"Residual\"),\n",
    "                           (noisy_image, fitted_image, residual),\n",
    "                           axes.flat):\n",
    "    im = ax.contourf(x, y, data, vmin=vmin, vmax=vmax, origin=\"lower\")\n",
    "    ax.set_aspect(\"equal\")\n",
    "    ax.title.set_text(title)\n",
    "plt.show()"
   ]
  }
 ],
 "metadata": {
  "file_extension": ".py",
  "kernelspec": {
   "display_name": "Python 3",
   "language": "python",
   "name": "python3"
  },
  "language_info": {
   "codemirror_mode": {
    "name": "ipython",
    "version": 3
   },
   "file_extension": ".py",
   "mimetype": "text/x-python",
   "name": "python",
   "nbconvert_exporter": "python",
   "pygments_lexer": "ipython3",
   "version": "3.7.5"
  },
  "mimetype": "text/x-python",
  "name": "python",
  "npconvert_exporter": "python",
  "pycharm": {
   "stem_cell": {
    "cell_type": "raw",
    "metadata": {
     "collapsed": false
    },
    "source": []
   }
  },
  "pygments_lexer": "ipython3",
  "version": 3
 },
 "nbformat": 4,
 "nbformat_minor": 2
}
